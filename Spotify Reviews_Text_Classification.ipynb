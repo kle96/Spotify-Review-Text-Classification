{
 "cells": [
  {
   "cell_type": "markdown",
   "metadata": {},
   "source": [
    "### Text Classification for Spotify Reviews\n",
    "The goal of this project is to extract key features from the Spotify Reviews for both positive and negative reviews. Natural language processing techniques using TF-IDF on bigrams and trigrams to extract features of importance and classify reviews as positive or negative. The data will be downloaded from kaggle."
   ]
  },
  {
   "cell_type": "code",
   "execution_count": 10,
   "metadata": {},
   "outputs": [],
   "source": [
    "import pandas as pd\n",
    "import nltk\n",
    "from nltk.corpus import stopwords\n",
    "from nltk.tokenize import word_tokenize\n",
    "import string\n",
    "import re\n",
    "from sklearn.feature_extraction.text import TfidfVectorizer\n",
    "import kagglehub"
   ]
  },
  {
   "cell_type": "code",
   "execution_count": 2,
   "metadata": {},
   "outputs": [
    {
     "name": "stdout",
     "output_type": "stream",
     "text": [
      "Path to dataset files: C:\\Users\\krist\\.cache\\kagglehub\\datasets\\alexandrakim2201\\spotify-dataset\\versions\\2\n"
     ]
    }
   ],
   "source": [
    "# Import Spotify Review data from kaggle\n",
    "path = kagglehub.dataset_download(\"alexandrakim2201/spotify-dataset\")\n",
    "\n",
    "print(\"Path to dataset files:\", path)"
   ]
  },
  {
   "cell_type": "code",
   "execution_count": 21,
   "metadata": {},
   "outputs": [
    {
     "data": {
      "text/html": [
       "<div>\n",
       "<style scoped>\n",
       "    .dataframe tbody tr th:only-of-type {\n",
       "        vertical-align: middle;\n",
       "    }\n",
       "\n",
       "    .dataframe tbody tr th {\n",
       "        vertical-align: top;\n",
       "    }\n",
       "\n",
       "    .dataframe thead th {\n",
       "        text-align: right;\n",
       "    }\n",
       "</style>\n",
       "<table border=\"1\" class=\"dataframe\">\n",
       "  <thead>\n",
       "    <tr style=\"text-align: right;\">\n",
       "      <th></th>\n",
       "      <th>Review</th>\n",
       "      <th>label</th>\n",
       "    </tr>\n",
       "  </thead>\n",
       "  <tbody>\n",
       "    <tr>\n",
       "      <th>0</th>\n",
       "      <td>Great music service, the audio is high quality...</td>\n",
       "      <td>POSITIVE</td>\n",
       "    </tr>\n",
       "    <tr>\n",
       "      <th>1</th>\n",
       "      <td>Please ignore previous negative rating. This a...</td>\n",
       "      <td>POSITIVE</td>\n",
       "    </tr>\n",
       "    <tr>\n",
       "      <th>2</th>\n",
       "      <td>This pop-up \"Get the best Spotify experience o...</td>\n",
       "      <td>NEGATIVE</td>\n",
       "    </tr>\n",
       "    <tr>\n",
       "      <th>3</th>\n",
       "      <td>Really buggy and terrible to use as of recently</td>\n",
       "      <td>NEGATIVE</td>\n",
       "    </tr>\n",
       "    <tr>\n",
       "      <th>4</th>\n",
       "      <td>Dear Spotify why do I get songs that I didn't ...</td>\n",
       "      <td>NEGATIVE</td>\n",
       "    </tr>\n",
       "  </tbody>\n",
       "</table>\n",
       "</div>"
      ],
      "text/plain": [
       "                                              Review     label\n",
       "0  Great music service, the audio is high quality...  POSITIVE\n",
       "1  Please ignore previous negative rating. This a...  POSITIVE\n",
       "2  This pop-up \"Get the best Spotify experience o...  NEGATIVE\n",
       "3    Really buggy and terrible to use as of recently  NEGATIVE\n",
       "4  Dear Spotify why do I get songs that I didn't ...  NEGATIVE"
      ]
     },
     "execution_count": 21,
     "metadata": {},
     "output_type": "execute_result"
    }
   ],
   "source": [
    "df = pd.read_csv(path+'\\DATASET.csv')\n",
    "df.head()"
   ]
  },
  {
   "cell_type": "markdown",
   "metadata": {},
   "source": [
    "#### Text Pre-processing\n",
    "The review data needs to be cleaned for analysis such as:\n",
    "- Set text to lowercase\n",
    "- Remove punctuation\n",
    "- Remove stop words"
   ]
  },
  {
   "cell_type": "code",
   "execution_count": 22,
   "metadata": {},
   "outputs": [
    {
     "data": {
      "text/html": [
       "<div>\n",
       "<style scoped>\n",
       "    .dataframe tbody tr th:only-of-type {\n",
       "        vertical-align: middle;\n",
       "    }\n",
       "\n",
       "    .dataframe tbody tr th {\n",
       "        vertical-align: top;\n",
       "    }\n",
       "\n",
       "    .dataframe thead th {\n",
       "        text-align: right;\n",
       "    }\n",
       "</style>\n",
       "<table border=\"1\" class=\"dataframe\">\n",
       "  <thead>\n",
       "    <tr style=\"text-align: right;\">\n",
       "      <th></th>\n",
       "      <th>Review</th>\n",
       "      <th>label</th>\n",
       "    </tr>\n",
       "  </thead>\n",
       "  <tbody>\n",
       "    <tr>\n",
       "      <th>0</th>\n",
       "      <td>great music service, the audio is high quality...</td>\n",
       "      <td>POSITIVE</td>\n",
       "    </tr>\n",
       "    <tr>\n",
       "      <th>1</th>\n",
       "      <td>please ignore previous negative rating. this a...</td>\n",
       "      <td>POSITIVE</td>\n",
       "    </tr>\n",
       "    <tr>\n",
       "      <th>2</th>\n",
       "      <td>this pop-up \"get the best spotify experience o...</td>\n",
       "      <td>NEGATIVE</td>\n",
       "    </tr>\n",
       "    <tr>\n",
       "      <th>3</th>\n",
       "      <td>really buggy and terrible to use as of recently</td>\n",
       "      <td>NEGATIVE</td>\n",
       "    </tr>\n",
       "    <tr>\n",
       "      <th>4</th>\n",
       "      <td>dear spotify why do i get songs that i didn't ...</td>\n",
       "      <td>NEGATIVE</td>\n",
       "    </tr>\n",
       "  </tbody>\n",
       "</table>\n",
       "</div>"
      ],
      "text/plain": [
       "                                              Review     label\n",
       "0  great music service, the audio is high quality...  POSITIVE\n",
       "1  please ignore previous negative rating. this a...  POSITIVE\n",
       "2  this pop-up \"get the best spotify experience o...  NEGATIVE\n",
       "3    really buggy and terrible to use as of recently  NEGATIVE\n",
       "4  dear spotify why do i get songs that i didn't ...  NEGATIVE"
      ]
     },
     "execution_count": 22,
     "metadata": {},
     "output_type": "execute_result"
    }
   ],
   "source": [
    "# Set reviews all to lowercase\n",
    "df['Review'] = df['Review'].str.lower()\n",
    "df.head()"
   ]
  },
  {
   "cell_type": "code",
   "execution_count": 23,
   "metadata": {},
   "outputs": [
    {
     "data": {
      "text/html": [
       "<div>\n",
       "<style scoped>\n",
       "    .dataframe tbody tr th:only-of-type {\n",
       "        vertical-align: middle;\n",
       "    }\n",
       "\n",
       "    .dataframe tbody tr th {\n",
       "        vertical-align: top;\n",
       "    }\n",
       "\n",
       "    .dataframe thead th {\n",
       "        text-align: right;\n",
       "    }\n",
       "</style>\n",
       "<table border=\"1\" class=\"dataframe\">\n",
       "  <thead>\n",
       "    <tr style=\"text-align: right;\">\n",
       "      <th></th>\n",
       "      <th>Review</th>\n",
       "      <th>label</th>\n",
       "    </tr>\n",
       "  </thead>\n",
       "  <tbody>\n",
       "    <tr>\n",
       "      <th>0</th>\n",
       "      <td>great music service the audio is high quality ...</td>\n",
       "      <td>POSITIVE</td>\n",
       "    </tr>\n",
       "    <tr>\n",
       "      <th>1</th>\n",
       "      <td>please ignore previous negative rating this ap...</td>\n",
       "      <td>POSITIVE</td>\n",
       "    </tr>\n",
       "    <tr>\n",
       "      <th>2</th>\n",
       "      <td>this popup get the best spotify experience on ...</td>\n",
       "      <td>NEGATIVE</td>\n",
       "    </tr>\n",
       "    <tr>\n",
       "      <th>3</th>\n",
       "      <td>really buggy and terrible to use as of recently</td>\n",
       "      <td>NEGATIVE</td>\n",
       "    </tr>\n",
       "    <tr>\n",
       "      <th>4</th>\n",
       "      <td>dear spotify why do i get songs that i didnt p...</td>\n",
       "      <td>NEGATIVE</td>\n",
       "    </tr>\n",
       "  </tbody>\n",
       "</table>\n",
       "</div>"
      ],
      "text/plain": [
       "                                              Review     label\n",
       "0  great music service the audio is high quality ...  POSITIVE\n",
       "1  please ignore previous negative rating this ap...  POSITIVE\n",
       "2  this popup get the best spotify experience on ...  NEGATIVE\n",
       "3    really buggy and terrible to use as of recently  NEGATIVE\n",
       "4  dear spotify why do i get songs that i didnt p...  NEGATIVE"
      ]
     },
     "execution_count": 23,
     "metadata": {},
     "output_type": "execute_result"
    }
   ],
   "source": [
    "# Remove punctuation\n",
    "df['Review'] = df['Review'].str.replace(r'[^\\w\\s]', '', regex=True)\n",
    "df.head()"
   ]
  },
  {
   "cell_type": "code",
   "execution_count": 24,
   "metadata": {},
   "outputs": [],
   "source": [
    "# Remove extra whitespace\n",
    "df['Review'] = df['Review'].str.strip()"
   ]
  },
  {
   "cell_type": "code",
   "execution_count": 25,
   "metadata": {},
   "outputs": [],
   "source": [
    "# Remove stopwords\n",
    "#nltk.download('stopwords')\n",
    "stop_words = set(stopwords.words('english'))\n",
    "\n",
    "# Tokenize words\n",
    "df['Review'] = df['Review'].apply(lambda x: str(x).split())"
   ]
  },
  {
   "cell_type": "code",
   "execution_count": 35,
   "metadata": {},
   "outputs": [
    {
     "data": {
      "text/html": [
       "<div>\n",
       "<style scoped>\n",
       "    .dataframe tbody tr th:only-of-type {\n",
       "        vertical-align: middle;\n",
       "    }\n",
       "\n",
       "    .dataframe tbody tr th {\n",
       "        vertical-align: top;\n",
       "    }\n",
       "\n",
       "    .dataframe thead th {\n",
       "        text-align: right;\n",
       "    }\n",
       "</style>\n",
       "<table border=\"1\" class=\"dataframe\">\n",
       "  <thead>\n",
       "    <tr style=\"text-align: right;\">\n",
       "      <th></th>\n",
       "      <th>Review</th>\n",
       "      <th>label</th>\n",
       "      <th>Review Tokenized</th>\n",
       "    </tr>\n",
       "  </thead>\n",
       "  <tbody>\n",
       "    <tr>\n",
       "      <th>0</th>\n",
       "      <td>[great, music, service, the, audio, is, high, ...</td>\n",
       "      <td>POSITIVE</td>\n",
       "      <td>[great, music, service, audio, high, quality, ...</td>\n",
       "    </tr>\n",
       "    <tr>\n",
       "      <th>1</th>\n",
       "      <td>[please, ignore, previous, negative, rating, t...</td>\n",
       "      <td>POSITIVE</td>\n",
       "      <td>[please, ignore, previous, negative, rating, a...</td>\n",
       "    </tr>\n",
       "    <tr>\n",
       "      <th>2</th>\n",
       "      <td>[this, popup, get, the, best, spotify, experie...</td>\n",
       "      <td>NEGATIVE</td>\n",
       "      <td>[popup, get, best, spotify, experience, androi...</td>\n",
       "    </tr>\n",
       "    <tr>\n",
       "      <th>3</th>\n",
       "      <td>[really, buggy, and, terrible, to, use, as, of...</td>\n",
       "      <td>NEGATIVE</td>\n",
       "      <td>[really, buggy, terrible, use, recently]</td>\n",
       "    </tr>\n",
       "    <tr>\n",
       "      <th>4</th>\n",
       "      <td>[dear, spotify, why, do, i, get, songs, that, ...</td>\n",
       "      <td>NEGATIVE</td>\n",
       "      <td>[dear, spotify, get, songs, didnt, put, playli...</td>\n",
       "    </tr>\n",
       "  </tbody>\n",
       "</table>\n",
       "</div>"
      ],
      "text/plain": [
       "                                              Review     label  \\\n",
       "0  [great, music, service, the, audio, is, high, ...  POSITIVE   \n",
       "1  [please, ignore, previous, negative, rating, t...  POSITIVE   \n",
       "2  [this, popup, get, the, best, spotify, experie...  NEGATIVE   \n",
       "3  [really, buggy, and, terrible, to, use, as, of...  NEGATIVE   \n",
       "4  [dear, spotify, why, do, i, get, songs, that, ...  NEGATIVE   \n",
       "\n",
       "                                    Review Tokenized  \n",
       "0  [great, music, service, audio, high, quality, ...  \n",
       "1  [please, ignore, previous, negative, rating, a...  \n",
       "2  [popup, get, best, spotify, experience, androi...  \n",
       "3           [really, buggy, terrible, use, recently]  \n",
       "4  [dear, spotify, get, songs, didnt, put, playli...  "
      ]
     },
     "execution_count": 35,
     "metadata": {},
     "output_type": "execute_result"
    }
   ],
   "source": [
    "df['Review Tokenized'] = df['Review'].apply(lambda x: [w for w in x if not w in stop_words])\n",
    "df.head()"
   ]
  },
  {
   "cell_type": "code",
   "execution_count": null,
   "metadata": {},
   "outputs": [
    {
     "name": "stderr",
     "output_type": "stream",
     "text": [
      "[nltk_data] Downloading package wordnet to\n",
      "[nltk_data]     C:\\Users\\krist\\AppData\\Roaming\\nltk_data...\n"
     ]
    }
   ],
   "source": [
    "# Lemmatize words\n",
    "from nltk.stem import WordNetLemmatizer\n",
    "#nltk.download('wordnet')\n",
    "lem = WordNetLemmatizer()"
   ]
  },
  {
   "cell_type": "code",
   "execution_count": 64,
   "metadata": {},
   "outputs": [
    {
     "data": {
      "text/html": [
       "<div>\n",
       "<style scoped>\n",
       "    .dataframe tbody tr th:only-of-type {\n",
       "        vertical-align: middle;\n",
       "    }\n",
       "\n",
       "    .dataframe tbody tr th {\n",
       "        vertical-align: top;\n",
       "    }\n",
       "\n",
       "    .dataframe thead th {\n",
       "        text-align: right;\n",
       "    }\n",
       "</style>\n",
       "<table border=\"1\" class=\"dataframe\">\n",
       "  <thead>\n",
       "    <tr style=\"text-align: right;\">\n",
       "      <th></th>\n",
       "      <th>Review</th>\n",
       "      <th>label</th>\n",
       "      <th>Review Tokenized</th>\n",
       "      <th>Lemmatize Review</th>\n",
       "    </tr>\n",
       "  </thead>\n",
       "  <tbody>\n",
       "    <tr>\n",
       "      <th>0</th>\n",
       "      <td>[great, music, service, the, audio, is, high, ...</td>\n",
       "      <td>POSITIVE</td>\n",
       "      <td>[great, music, service, audio, high, quality, ...</td>\n",
       "      <td>[great, music, service, audio, high, quality, ...</td>\n",
       "    </tr>\n",
       "    <tr>\n",
       "      <th>1</th>\n",
       "      <td>[please, ignore, previous, negative, rating, t...</td>\n",
       "      <td>POSITIVE</td>\n",
       "      <td>[please, ignore, previous, negative, rating, a...</td>\n",
       "      <td>[please, ignore, previous, negative, rating, a...</td>\n",
       "    </tr>\n",
       "    <tr>\n",
       "      <th>2</th>\n",
       "      <td>[this, popup, get, the, best, spotify, experie...</td>\n",
       "      <td>NEGATIVE</td>\n",
       "      <td>[popup, get, best, spotify, experience, androi...</td>\n",
       "      <td>[popup, get, best, spotify, experience, androi...</td>\n",
       "    </tr>\n",
       "    <tr>\n",
       "      <th>3</th>\n",
       "      <td>[really, buggy, and, terrible, to, use, as, of...</td>\n",
       "      <td>NEGATIVE</td>\n",
       "      <td>[really, buggy, terrible, use, recently]</td>\n",
       "      <td>[really, buggy, terrible, use, recently]</td>\n",
       "    </tr>\n",
       "    <tr>\n",
       "      <th>4</th>\n",
       "      <td>[dear, spotify, why, do, i, get, songs, that, ...</td>\n",
       "      <td>NEGATIVE</td>\n",
       "      <td>[dear, spotify, get, songs, didnt, put, playli...</td>\n",
       "      <td>[dear, spotify, get, song, didnt, put, playlis...</td>\n",
       "    </tr>\n",
       "  </tbody>\n",
       "</table>\n",
       "</div>"
      ],
      "text/plain": [
       "                                              Review     label  \\\n",
       "0  [great, music, service, the, audio, is, high, ...  POSITIVE   \n",
       "1  [please, ignore, previous, negative, rating, t...  POSITIVE   \n",
       "2  [this, popup, get, the, best, spotify, experie...  NEGATIVE   \n",
       "3  [really, buggy, and, terrible, to, use, as, of...  NEGATIVE   \n",
       "4  [dear, spotify, why, do, i, get, songs, that, ...  NEGATIVE   \n",
       "\n",
       "                                    Review Tokenized  \\\n",
       "0  [great, music, service, audio, high, quality, ...   \n",
       "1  [please, ignore, previous, negative, rating, a...   \n",
       "2  [popup, get, best, spotify, experience, androi...   \n",
       "3           [really, buggy, terrible, use, recently]   \n",
       "4  [dear, spotify, get, songs, didnt, put, playli...   \n",
       "\n",
       "                                    Lemmatize Review  \n",
       "0  [great, music, service, audio, high, quality, ...  \n",
       "1  [please, ignore, previous, negative, rating, a...  \n",
       "2  [popup, get, best, spotify, experience, androi...  \n",
       "3           [really, buggy, terrible, use, recently]  \n",
       "4  [dear, spotify, get, song, didnt, put, playlis...  "
      ]
     },
     "execution_count": 64,
     "metadata": {},
     "output_type": "execute_result"
    }
   ],
   "source": [
    "df['Lemmatize Review'] = df['Review Tokenized'].apply(lambda x: [lem.lemmatize(l) for l in x])\n",
    "df.head()"
   ]
  },
  {
   "cell_type": "code",
   "execution_count": 66,
   "metadata": {},
   "outputs": [
    {
     "data": {
      "text/plain": [
       "0        great music service audio high quality app eas...\n",
       "1        please ignore previous negative rating app sup...\n",
       "2        popup get best spotify experience android 12 a...\n",
       "3                       really buggy terrible use recently\n",
       "4        dear spotify get song didnt put playlist shuff...\n",
       "                               ...                        \n",
       "52697                                             yes best\n",
       "52698    spotify heart feb 2024 heart music lyric langu...\n",
       "52699    tried open app wont open restarted phone ill t...\n",
       "52700                                                 good\n",
       "52701                 nice app play music affordable price\n",
       "Name: Clean Review, Length: 52702, dtype: object"
      ]
     },
     "execution_count": 66,
     "metadata": {},
     "output_type": "execute_result"
    }
   ],
   "source": [
    "# Combine cleaned words back to sentence\n",
    "df['Clean Review'] = df['Lemmatize Review'].apply(lambda x: ' '.join(x))\n",
    "df['Clean Review']"
   ]
  }
 ],
 "metadata": {
  "kernelspec": {
   "display_name": "Python 3",
   "language": "python",
   "name": "python3"
  },
  "language_info": {
   "codemirror_mode": {
    "name": "ipython",
    "version": 3
   },
   "file_extension": ".py",
   "mimetype": "text/x-python",
   "name": "python",
   "nbconvert_exporter": "python",
   "pygments_lexer": "ipython3",
   "version": "3.11.9"
  }
 },
 "nbformat": 4,
 "nbformat_minor": 2
}
